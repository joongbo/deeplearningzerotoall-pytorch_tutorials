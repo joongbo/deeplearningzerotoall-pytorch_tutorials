{
 "cells": [
  {
   "cell_type": "code",
   "execution_count": 1,
   "metadata": {},
   "outputs": [],
   "source": [
    "import torch"
   ]
  },
  {
   "cell_type": "code",
   "execution_count": 2,
   "metadata": {},
   "outputs": [],
   "source": [
    "from torch.utils.data import Dataset"
   ]
  },
  {
   "cell_type": "code",
   "execution_count": 3,
   "metadata": {},
   "outputs": [],
   "source": [
    "class CustomDataset(Dataset):\n",
    "    def __init__(self):\n",
    "        self.x_data = [[73, 80, 75],\n",
    "                       [93, 88, 93],\n",
    "                       [89, 91, 90],\n",
    "                       [96, 98, 100],\n",
    "                       [73, 66, 70]]\n",
    "        self.y_data = [[152], [185], [180], [196], [142]]\n",
    "        \n",
    "    def __len__(self):\n",
    "        return len(self.x_data)\n",
    "    \n",
    "    def __getitem__(self, idx):\n",
    "        x = torch.FloatTensor(self.x_data[idx])\n",
    "        y = torch.FloatTensor(self.y_data[idx])\n",
    "        \n",
    "        return x, y"
   ]
  },
  {
   "cell_type": "code",
   "execution_count": 4,
   "metadata": {},
   "outputs": [],
   "source": [
    "dataset = CustomDataset()"
   ]
  },
  {
   "cell_type": "code",
   "execution_count": 5,
   "metadata": {},
   "outputs": [],
   "source": [
    "from torch.utils.data import DataLoader"
   ]
  },
  {
   "cell_type": "code",
   "execution_count": 6,
   "metadata": {},
   "outputs": [],
   "source": [
    "dataloader = DataLoader(dataset=dataset, batch_size=2, shuffle=True)"
   ]
  },
  {
   "cell_type": "markdown",
   "metadata": {},
   "source": [
    "### training"
   ]
  },
  {
   "cell_type": "code",
   "execution_count": 7,
   "metadata": {},
   "outputs": [],
   "source": [
    "import torch.nn as nn\n",
    "import torch.nn.functional as F\n",
    "\n",
    "class MLR(nn.Module): # nn.Module 상속\n",
    "    def __init__(self):\n",
    "        super().__init__()\n",
    "        self.linear = nn.Linear(3, 1) # (input, output)\n",
    "        \n",
    "    def forward(self, x):\n",
    "        return self.linear(x)"
   ]
  },
  {
   "cell_type": "code",
   "execution_count": 9,
   "metadata": {},
   "outputs": [
    {
     "name": "stdout",
     "output_type": "stream",
     "text": [
      "Epoch    0/20 Batch 1/3 Cost: 17264.013672\n",
      "Epoch    0/20 Batch 2/3 Cost: 4592.248535\n",
      "Epoch    0/20 Batch 3/3 Cost: 2420.683350\n",
      "Epoch    1/20 Batch 1/3 Cost: 294.521820\n",
      "Epoch    1/20 Batch 2/3 Cost: 192.852051\n",
      "Epoch    1/20 Batch 3/3 Cost: 108.338951\n",
      "Epoch    2/20 Batch 1/3 Cost: 1.555977\n",
      "Epoch    2/20 Batch 2/3 Cost: 30.145149\n",
      "Epoch    2/20 Batch 3/3 Cost: 3.950654\n",
      "Epoch    3/20 Batch 1/3 Cost: 7.883696\n",
      "Epoch    3/20 Batch 2/3 Cost: 13.501656\n",
      "Epoch    3/20 Batch 3/3 Cost: 2.014748\n",
      "Epoch    4/20 Batch 1/3 Cost: 0.755247\n",
      "Epoch    4/20 Batch 2/3 Cost: 20.849054\n",
      "Epoch    4/20 Batch 3/3 Cost: 15.806497\n",
      "Epoch    5/20 Batch 1/3 Cost: 14.132943\n",
      "Epoch    5/20 Batch 2/3 Cost: 7.088290\n",
      "Epoch    5/20 Batch 3/3 Cost: 2.156285\n",
      "Epoch    6/20 Batch 1/3 Cost: 10.545129\n",
      "Epoch    6/20 Batch 2/3 Cost: 6.934818\n",
      "Epoch    6/20 Batch 3/3 Cost: 17.426701\n",
      "Epoch    7/20 Batch 1/3 Cost: 8.267348\n",
      "Epoch    7/20 Batch 2/3 Cost: 11.893917\n",
      "Epoch    7/20 Batch 3/3 Cost: 13.095418\n",
      "Epoch    8/20 Batch 1/3 Cost: 13.757645\n",
      "Epoch    8/20 Batch 2/3 Cost: 6.375924\n",
      "Epoch    8/20 Batch 3/3 Cost: 14.771716\n",
      "Epoch    9/20 Batch 1/3 Cost: 14.556571\n",
      "Epoch    9/20 Batch 2/3 Cost: 8.093767\n",
      "Epoch    9/20 Batch 3/3 Cost: 10.731183\n",
      "Epoch   10/20 Batch 1/3 Cost: 14.822672\n",
      "Epoch   10/20 Batch 2/3 Cost: 14.488008\n",
      "Epoch   10/20 Batch 3/3 Cost: 7.938764\n",
      "Epoch   11/20 Batch 1/3 Cost: 9.214600\n",
      "Epoch   11/20 Batch 2/3 Cost: 9.889505\n",
      "Epoch   11/20 Batch 3/3 Cost: 4.118665\n",
      "Epoch   12/20 Batch 1/3 Cost: 13.868032\n",
      "Epoch   12/20 Batch 2/3 Cost: 6.909503\n",
      "Epoch   12/20 Batch 3/3 Cost: 2.213074\n",
      "Epoch   13/20 Batch 1/3 Cost: 10.805511\n",
      "Epoch   13/20 Batch 2/3 Cost: 5.712614\n",
      "Epoch   13/20 Batch 3/3 Cost: 12.496359\n",
      "Epoch   14/20 Batch 1/3 Cost: 14.407137\n",
      "Epoch   14/20 Batch 2/3 Cost: 7.101926\n",
      "Epoch   14/20 Batch 3/3 Cost: 3.421281\n",
      "Epoch   15/20 Batch 1/3 Cost: 18.162237\n",
      "Epoch   15/20 Batch 2/3 Cost: 12.187269\n",
      "Epoch   15/20 Batch 3/3 Cost: 0.658496\n",
      "Epoch   16/20 Batch 1/3 Cost: 11.154177\n",
      "Epoch   16/20 Batch 2/3 Cost: 9.896337\n",
      "Epoch   16/20 Batch 3/3 Cost: 3.134752\n",
      "Epoch   17/20 Batch 1/3 Cost: 18.410421\n",
      "Epoch   17/20 Batch 2/3 Cost: 11.177632\n",
      "Epoch   17/20 Batch 3/3 Cost: 1.613958\n",
      "Epoch   18/20 Batch 1/3 Cost: 14.337915\n",
      "Epoch   18/20 Batch 2/3 Cost: 7.084548\n",
      "Epoch   18/20 Batch 3/3 Cost: 3.392665\n",
      "Epoch   19/20 Batch 1/3 Cost: 18.076614\n",
      "Epoch   19/20 Batch 2/3 Cost: 11.277320\n",
      "Epoch   19/20 Batch 3/3 Cost: 1.642462\n"
     ]
    }
   ],
   "source": [
    "model = MLR()\n",
    "optimizer = torch.optim.SGD(model.parameters(), lr=1e-5) # 0.00001\n",
    "\n",
    "n_epoch = 20\n",
    "for epoch in range(n_epoch):\n",
    "    for batch_idx, samples in enumerate(dataloader):\n",
    "        x_train, y_train = samples\n",
    "        prediction = model(x_train)\n",
    "        cost = F.mse_loss(prediction, y_train)\n",
    "\n",
    "        print('Epoch {:4d}/{} Batch {}/{} Cost: {:.6f}'.format(\n",
    "            epoch, n_epoch, batch_idx+1, len(dataloader), cost.item()))\n",
    "\n",
    "        optimizer.zero_grad()\n",
    "        cost.backward()\n",
    "        optimizer.step()"
   ]
  }
 ],
 "metadata": {
  "kernelspec": {
   "display_name": "pytorch_huggingface",
   "language": "python",
   "name": "pytorch_huggingface"
  },
  "language_info": {
   "codemirror_mode": {
    "name": "ipython",
    "version": 3
   },
   "file_extension": ".py",
   "mimetype": "text/x-python",
   "name": "python",
   "nbconvert_exporter": "python",
   "pygments_lexer": "ipython3",
   "version": "3.6.10"
  }
 },
 "nbformat": 4,
 "nbformat_minor": 4
}
