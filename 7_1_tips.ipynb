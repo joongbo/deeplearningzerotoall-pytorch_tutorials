{
 "cells": [
  {
   "cell_type": "code",
   "execution_count": 1,
   "metadata": {},
   "outputs": [],
   "source": [
    "import torch\n",
    "import torch.nn as nn\n",
    "import torch.nn.functional as F\n",
    "import torch.optim as optim"
   ]
  },
  {
   "cell_type": "code",
   "execution_count": 2,
   "metadata": {},
   "outputs": [
    {
     "data": {
      "text/plain": [
       "<torch._C.Generator at 0x7f5f5c0f1d30>"
      ]
     },
     "execution_count": 2,
     "metadata": {},
     "output_type": "execute_result"
    }
   ],
   "source": [
    "# for repreoducibility\n",
    "torch.manual_seed(1)"
   ]
  },
  {
   "cell_type": "code",
   "execution_count": 3,
   "metadata": {},
   "outputs": [],
   "source": [
    "x_train = torch.FloatTensor([[1 ,2, 1],\n",
    "                             [1 ,3, 2],\n",
    "                             [1 ,3, 4],\n",
    "                             [1 ,5, 5],\n",
    "                             [1 ,7, 5],\n",
    "                             [1 ,2, 5],\n",
    "                             [1 ,6, 6],\n",
    "                             [1 ,7, 7],\n",
    "                            ])\n",
    "y_train = torch.LongTensor([2, 2, 2, 1, 1, 1, 0, 0])\n",
    "x_test = torch.FloatTensor([[2, 1, 1], [3, 1, 2], [3, 3, 4]])\n",
    "y_test = torch.LongTensor([2, 2, 2])"
   ]
  },
  {
   "cell_type": "code",
   "execution_count": 4,
   "metadata": {},
   "outputs": [],
   "source": [
    "class SoftmaxClassifierModel(nn.Module):\n",
    "    def __init__(self):\n",
    "        super().__init__()\n",
    "        self.linear = nn.Linear(3, 3)\n",
    "        \n",
    "    def forward(self, x):\n",
    "        return self.linear(x)"
   ]
  },
  {
   "cell_type": "code",
   "execution_count": 5,
   "metadata": {},
   "outputs": [],
   "source": [
    "model = SoftmaxClassifierModel()\n",
    "optimizer = optim.SGD(model.parameters(), lr=0.1)"
   ]
  },
  {
   "cell_type": "code",
   "execution_count": 9,
   "metadata": {},
   "outputs": [],
   "source": [
    "def train(model, optimizer, x_train, y_train):\n",
    "    n_epochs = 20\n",
    "    for epoch in range(n_epochs):\n",
    "\n",
    "        prediction = model(x_train)\n",
    "        cost = F.cross_entropy(prediction, y_train)\n",
    "\n",
    "        optimizer.zero_grad()\n",
    "        cost.backward()\n",
    "        optimizer.step()\n",
    "\n",
    "        print('Epoch {:4d}/{} Cost: {:.6f}'.format(\n",
    "            epoch, n_epochs, cost.item()))\n",
    "        \n",
    "def test(model, optimizer, x_test, y_test):\n",
    "    prediction = model(x_test)\n",
    "    cost = F.cross_entropy(prediction, y_test)\n",
    "    predicted_classes = prediction.max(1)[1]\n",
    "    accuracy = (predicted_classes == y_test).float().mean()\n",
    "    \n",
    "    print('Accuracy: {}% Cost: {:.6f}'.format(\n",
    "        accuracy.item(), cost.item()))"
   ]
  },
  {
   "cell_type": "code",
   "execution_count": 7,
   "metadata": {},
   "outputs": [
    {
     "name": "stdout",
     "output_type": "stream",
     "text": [
      "Epoch    0/20 Cost: 2.203667\n",
      "Epoch    1/20 Cost: 1.199645\n",
      "Epoch    2/20 Cost: 1.142985\n",
      "Epoch    3/20 Cost: 1.117769\n",
      "Epoch    4/20 Cost: 1.100901\n",
      "Epoch    5/20 Cost: 1.089523\n",
      "Epoch    6/20 Cost: 1.079872\n",
      "Epoch    7/20 Cost: 1.071320\n",
      "Epoch    8/20 Cost: 1.063325\n",
      "Epoch    9/20 Cost: 1.055720\n",
      "Epoch   10/20 Cost: 1.048378\n",
      "Epoch   11/20 Cost: 1.041245\n",
      "Epoch   12/20 Cost: 1.034285\n",
      "Epoch   13/20 Cost: 1.027478\n",
      "Epoch   14/20 Cost: 1.020813\n",
      "Epoch   15/20 Cost: 1.014279\n",
      "Epoch   16/20 Cost: 1.007872\n",
      "Epoch   17/20 Cost: 1.001586\n",
      "Epoch   18/20 Cost: 0.995419\n",
      "Epoch   19/20 Cost: 0.989365\n"
     ]
    }
   ],
   "source": [
    "train(model, optimizer, x_train, y_train)"
   ]
  },
  {
   "cell_type": "code",
   "execution_count": 10,
   "metadata": {},
   "outputs": [
    {
     "name": "stdout",
     "output_type": "stream",
     "text": [
      "Accuracy: 0.0% Cost: 1.425844\n"
     ]
    }
   ],
   "source": [
    "test(model, optimizer, x_test, y_test) # overfitting"
   ]
  },
  {
   "cell_type": "code",
   "execution_count": 21,
   "metadata": {},
   "outputs": [],
   "source": [
    "def train_with_test(model, optimizer, x_train, y_train, x_test, y_test):\n",
    "    n_epochs = 20\n",
    "    prev_acc = 0.0\n",
    "    for epoch in range(n_epochs):\n",
    "\n",
    "        prediction = model(x_train)\n",
    "        cost = F.cross_entropy(prediction, y_train)\n",
    "\n",
    "        optimizer.zero_grad()\n",
    "        cost.backward()\n",
    "        optimizer.step()\n",
    "        \n",
    "        prediction = model(x_test)\n",
    "        test_cost = F.cross_entropy(prediction, y_test)\n",
    "        predicted_classes = prediction.max(1)[1]\n",
    "        accuracy = (predicted_classes == y_test).float().mean().item()\n",
    "\n",
    "        print('Train Epoch {:4d}/{} Cost: {:.6f} || Test Accuracy: {:.1f}% Cost: {:.6f}'.format(\n",
    "            epoch, n_epochs, cost.item(), accuracy * 100, test_cost.item()))\n",
    "        \n",
    "        if prev_acc <= accuracy:\n",
    "            prev_acc = accuracy\n",
    "        else:\n",
    "            break"
   ]
  },
  {
   "cell_type": "code",
   "execution_count": 22,
   "metadata": {},
   "outputs": [
    {
     "name": "stdout",
     "output_type": "stream",
     "text": [
      "Train Epoch    0/20 Cost: 1.341574 || Test Accuracy: 0.0% Cost: 1.137680\n",
      "Train Epoch    1/20 Cost: 1.198802 || Test Accuracy: 0.0% Cost: 1.011065\n",
      "Train Epoch    2/20 Cost: 1.150877 || Test Accuracy: 33.3% Cost: 0.891487\n",
      "Train Epoch    3/20 Cost: 1.131977 || Test Accuracy: 33.3% Cost: 0.886537\n",
      "Train Epoch    4/20 Cost: 1.116242 || Test Accuracy: 33.3% Cost: 0.829073\n",
      "Train Epoch    5/20 Cost: 1.102514 || Test Accuracy: 33.3% Cost: 0.804475\n",
      "Train Epoch    6/20 Cost: 1.089676 || Test Accuracy: 66.7% Cost: 0.760810\n",
      "Train Epoch    7/20 Cost: 1.077479 || Test Accuracy: 66.7% Cost: 0.732455\n",
      "Train Epoch    8/20 Cost: 1.065775 || Test Accuracy: 66.7% Cost: 0.696384\n",
      "Train Epoch    9/20 Cost: 1.054511 || Test Accuracy: 66.7% Cost: 0.668205\n",
      "Train Epoch   10/20 Cost: 1.043655 || Test Accuracy: 66.7% Cost: 0.637083\n",
      "Train Epoch   11/20 Cost: 1.033187 || Test Accuracy: 100.0% Cost: 0.610492\n",
      "Train Epoch   12/20 Cost: 1.023091 || Test Accuracy: 100.0% Cost: 0.583053\n",
      "Train Epoch   13/20 Cost: 1.013356 || Test Accuracy: 100.0% Cost: 0.558514\n",
      "Train Epoch   14/20 Cost: 1.003968 || Test Accuracy: 100.0% Cost: 0.534066\n",
      "Train Epoch   15/20 Cost: 0.994917 || Test Accuracy: 100.0% Cost: 0.511663\n",
      "Train Epoch   16/20 Cost: 0.986189 || Test Accuracy: 100.0% Cost: 0.489764\n",
      "Train Epoch   17/20 Cost: 0.977775 || Test Accuracy: 100.0% Cost: 0.469420\n",
      "Train Epoch   18/20 Cost: 0.969661 || Test Accuracy: 100.0% Cost: 0.449749\n",
      "Train Epoch   19/20 Cost: 0.961836 || Test Accuracy: 100.0% Cost: 0.431326\n"
     ]
    }
   ],
   "source": [
    "model = SoftmaxClassifierModel()\n",
    "optimizer = optim.SGD(model.parameters(), lr=0.1)\n",
    "train_with_test(model, optimizer, x_train, y_train, x_test, y_test)"
   ]
  },
  {
   "cell_type": "markdown",
   "metadata": {},
   "source": [
    "### data processing\n",
    "- standardization\n",
    "\n",
    "$x^{'}_{j}=\\frac{x_{j}-\\mu_{j}}{\\sigma_{j}}$ $\\sim N(0,1)$"
   ]
  },
  {
   "cell_type": "markdown",
   "metadata": {},
   "source": [
    "**데이터의 특성**에 따라 정규화 등의 전처리를 해 주면 학습이 더욱 수월해진다.\n",
    "특히, y 가 2 차원 이상인 경우에는 정규화가 필수!"
   ]
  }
 ],
 "metadata": {
  "kernelspec": {
   "display_name": "pytorch_huggingface",
   "language": "python",
   "name": "pytorch_huggingface"
  },
  "language_info": {
   "codemirror_mode": {
    "name": "ipython",
    "version": 3
   },
   "file_extension": ".py",
   "mimetype": "text/x-python",
   "name": "python",
   "nbconvert_exporter": "python",
   "pygments_lexer": "ipython3",
   "version": "3.6.10"
  }
 },
 "nbformat": 4,
 "nbformat_minor": 4
}
